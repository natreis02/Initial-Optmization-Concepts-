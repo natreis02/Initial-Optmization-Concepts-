{
  "nbformat": 4,
  "nbformat_minor": 0,
  "metadata": {
    "colab": {
      "provenance": [],
      "authorship_tag": "ABX9TyOL7KS0NNl5092dsmaGEj9U",
      "include_colab_link": true
    },
    "kernelspec": {
      "name": "python3",
      "display_name": "Python 3"
    },
    "language_info": {
      "name": "python"
    }
  },
  "cells": [
    {
      "cell_type": "markdown",
      "metadata": {
        "id": "view-in-github",
        "colab_type": "text"
      },
      "source": [
        "<a href=\"https://colab.research.google.com/github/natreis02/Initial_Optmization_Concepts/blob/main/Detec%C3%A7%C3%A3o_de_sarcasmo.ipynb\" target=\"_parent\"><img src=\"https://colab.research.google.com/assets/colab-badge.svg\" alt=\"Open In Colab\"/></a>"
      ]
    },
    {
      "cell_type": "code",
      "source": [
        "# Run this to ensure TensorFlow 2.x is used\n",
        "try:\n",
        "  # %tensorflow_version only exists in Colab.\n",
        "  %tensorflow_version 2.x\n",
        "except Exception:\n",
        "  pass"
      ],
      "metadata": {
        "colab": {
          "base_uri": "https://localhost:8080/"
        },
        "id": "pQiEoyPrIxxM",
        "outputId": "217f4286-f192-45f2-deef-cef2449b3ac9"
      },
      "execution_count": 39,
      "outputs": [
        {
          "output_type": "stream",
          "name": "stdout",
          "text": [
            "Colab only includes TensorFlow 2.x; %tensorflow_version has no effect.\n"
          ]
        }
      ]
    },
    {
      "cell_type": "code",
      "execution_count": 40,
      "metadata": {
        "id": "r4yLxE3eIebK"
      },
      "outputs": [],
      "source": [
        "import json\n",
        "import tensorflow as tf\n",
        "from tensorflow.keras.preprocessing.text import Tokenizer\n",
        "from tensorflow.keras.preprocessing.sequence import pad_sequences"
      ]
    },
    {
      "cell_type": "code",
      "source": [
        "vocab_size = 10000 # Usar 1000 palavras mais frquentes e ignorar as outras.\n",
        "embedding_dim = 16 # Dimensão do vetor de entrada.\n",
        "max_length = 100  # Define os tamanhos das sequências.\n",
        "trunc_type='post' # Pode cortar palavras no início ou no final.\n",
        "padding_type='post' # Preenche sentenças pequenas com 0's. Todas as sentenças tem que ter tamanhos iguais.\n",
        "oov_tok = \"<OOV>\" # Out Of Vocabulary - palavras que estão fora do vocabulário.\n",
        "training_size = 20000 # Tamanho do conjunto de treino."
      ],
      "metadata": {
        "id": "4G9AL3v_Iusk"
      },
      "execution_count": 41,
      "outputs": []
    },
    {
      "cell_type": "code",
      "source": [
        "!wget --no-check-certificate \\\n",
        "    https://storage.googleapis.com/learning-datasets/sarcasm.json \\\n",
        "    -O /tmp/sarcasm.json\n"
      ],
      "metadata": {
        "colab": {
          "base_uri": "https://localhost:8080/"
        },
        "id": "vpMe9SKKI6GY",
        "outputId": "08fbef8b-6c8d-46dd-cd0e-dfe908c53309"
      },
      "execution_count": 42,
      "outputs": [
        {
          "output_type": "stream",
          "name": "stdout",
          "text": [
            "--2024-10-22 14:07:35--  https://storage.googleapis.com/learning-datasets/sarcasm.json\n",
            "Resolving storage.googleapis.com (storage.googleapis.com)... 142.251.2.207, 142.250.141.207, 74.125.137.207, ...\n",
            "Connecting to storage.googleapis.com (storage.googleapis.com)|142.251.2.207|:443... connected.\n",
            "HTTP request sent, awaiting response... 200 OK\n",
            "Length: 5643545 (5.4M) [application/json]\n",
            "Saving to: ‘/tmp/sarcasm.json’\n",
            "\n",
            "/tmp/sarcasm.json   100%[===================>]   5.38M  --.-KB/s    in 0.1s    \n",
            "\n",
            "2024-10-22 14:07:36 (56.1 MB/s) - ‘/tmp/sarcasm.json’ saved [5643545/5643545]\n",
            "\n"
          ]
        }
      ]
    },
    {
      "cell_type": "code",
      "source": [
        "with open(\"/tmp/sarcasm.json\", 'r') as f: # Coleta dados sobre manchetes de revistas. O arquivo json é aberto no modo de leitura r.\n",
        "    datastore = json.load(f) # O conteúdo é carregado na variável datashore.\n",
        "\n",
        "sentences = [] # vai armazenar as manchetes de notícias.\n",
        "labels = [] # vai armazenar os rótulos, indicando se a manchete é sarcástica ou não.\n",
        "\n",
        "for item in datastore: # um laço for percorre cada item (dicionário) no datastore.\n",
        "    sentences.append(item['headline']) # Cada dicionário tem uma chave 'headline' (que contém a manchete) e uma chave 'is_sarcastic' (que contém um rótulo indicando se a manchete é sarcástica ou não).\n",
        "    labels.append(item['is_sarcastic'])"
      ],
      "metadata": {
        "id": "ZtvC5MeGI_-1"
      },
      "execution_count": 43,
      "outputs": []
    },
    {
      "cell_type": "code",
      "source": [
        "\n",
        "training_sentences = sentences[0:training_size] # determina a quantidade de exemplos a serem usados para treinamento.\n",
        "testing_sentences = sentences[training_size:] # determina a quantidade de exemplos a serem usados para o teste.\n",
        "training_labels = labels[0:training_size] # a partir de quantos exemplos são usados no treino, define os rótulos correspondentes à cada sentença (0 ou 1).\n",
        "testing_labels = labels[training_size:]\n",
        "\n",
        "tokenizer = Tokenizer(num_words=vocab_size, oov_token=oov_tok) # Utiliza as informações sobre cada variável definida anteriormente.\n",
        "tokenizer.fit_on_texts(training_sentences) # Treina o tokenizer nas sentenças de treino. A variável 'training_sentences' percorre todas as sentenças e cria um vocabulário, associando um número único para cada palavra com base em sua frequência no conjunto de dados.\n",
        "\n",
        "word_index = tokenizer.word_index # Está criando um dicionário (word_index) que mapeia cada palavra do vocabulário para um número inteiro, representando seu token correspondente.\n",
        "\n",
        "training_sequences = tokenizer.texts_to_sequences(training_sentences) # Converte as sentenças de treino em sequências de números inteiros (tokens) e, em seguida, ajustando o comprimento dessas sequências para garantir que todas tenham o mesmo tamanho.\n",
        "training_padded = pad_sequences(training_sequences, maxlen=max_length, padding=padding_type, truncating=trunc_type)\n",
        "\n",
        "testing_sequences = tokenizer.texts_to_sequences(testing_sentences)\n",
        "testing_padded = pad_sequences(testing_sequences, maxlen=max_length, padding=padding_type, truncating=trunc_type)"
      ],
      "metadata": {
        "id": "eRtdeA0qJKtM"
      },
      "execution_count": 44,
      "outputs": []
    },
    {
      "cell_type": "code",
      "source": [
        "# Need this block to get it to work with TensorFlow 2.x\n",
        "import numpy as np\n",
        "training_padded = np.array(training_padded) # Essas variáveis contêm as sequências de entrada preenchidas/truncadas e convertidas para array para entrada do modelo.\n",
        "training_labels = np.array(training_labels) # Essas variáveis contêm os rótulos correspondentes às sentenças, indicando a classificação de cada uma e são convertidas para array.\n",
        "testing_padded = np.array(testing_padded) # Essas variáveis contêm as sequências de entrada preenchidas/truncadas e convertidas para array para entrada do modelo.\n",
        "testing_labels = np.array(testing_labels) # Essas variáveis contêm os rótulos correspondentes às sentenças, indicando a classificação de cada uma e são convertidas para array."
      ],
      "metadata": {
        "id": "F-P4YZ67JOJv"
      },
      "execution_count": 45,
      "outputs": []
    },
    {
      "cell_type": "code",
      "source": [
        "# Modelo de rede neural que treinará e classificará os dados.\n",
        "model = tf.keras.Sequential([\n",
        "    tf.keras.layers.Embedding(vocab_size, embedding_dim, input_length=max_length),\n",
        "    tf.keras.layers.GlobalAveragePooling1D(),\n",
        "    tf.keras.layers.Dense(24, activation='relu'), # usada em camadas intermediárias. Transforma valores negativos em zeros.\n",
        "    tf.keras.layers.Dense(1, activation='sigmoid') # usada geralmente na saída. Usada para classificação binária.\n",
        "])\n",
        "model.compile(loss='binary_crossentropy',optimizer='adam',metrics=['accuracy'])"
      ],
      "metadata": {
        "id": "-ZxHvibrJRrF"
      },
      "execution_count": 46,
      "outputs": []
    },
    {
      "cell_type": "code",
      "source": [
        "model.summary()"
      ],
      "metadata": {
        "colab": {
          "base_uri": "https://localhost:8080/",
          "height": 289
        },
        "id": "liRumuszJVp9",
        "outputId": "d03e3201-c8e3-4a40-fdbc-fa166c21ba74"
      },
      "execution_count": null,
      "outputs": [
        {
          "output_type": "display_data",
          "data": {
            "text/plain": [
              "\u001b[1mModel: \"sequential_1\"\u001b[0m\n"
            ],
            "text/html": [
              "<pre style=\"white-space:pre;overflow-x:auto;line-height:normal;font-family:Menlo,'DejaVu Sans Mono',consolas,'Courier New',monospace\"><span style=\"font-weight: bold\">Model: \"sequential_1\"</span>\n",
              "</pre>\n"
            ]
          },
          "metadata": {}
        },
        {
          "output_type": "display_data",
          "data": {
            "text/plain": [
              "┏━━━━━━━━━━━━━━━━━━━━━━━━━━━━━━━━━━━━━━┳━━━━━━━━━━━━━━━━━━━━━━━━━━━━━┳━━━━━━━━━━━━━━━━━┓\n",
              "┃\u001b[1m \u001b[0m\u001b[1mLayer (type)                        \u001b[0m\u001b[1m \u001b[0m┃\u001b[1m \u001b[0m\u001b[1mOutput Shape               \u001b[0m\u001b[1m \u001b[0m┃\u001b[1m \u001b[0m\u001b[1m        Param #\u001b[0m\u001b[1m \u001b[0m┃\n",
              "┡━━━━━━━━━━━━━━━━━━━━━━━━━━━━━━━━━━━━━━╇━━━━━━━━━━━━━━━━━━━━━━━━━━━━━╇━━━━━━━━━━━━━━━━━┩\n",
              "│ embedding_1 (\u001b[38;5;33mEmbedding\u001b[0m)              │ ?                           │     \u001b[38;5;34m0\u001b[0m (unbuilt) │\n",
              "├──────────────────────────────────────┼─────────────────────────────┼─────────────────┤\n",
              "│ global_average_pooling1d_1           │ ?                           │     \u001b[38;5;34m0\u001b[0m (unbuilt) │\n",
              "│ (\u001b[38;5;33mGlobalAveragePooling1D\u001b[0m)             │                             │                 │\n",
              "├──────────────────────────────────────┼─────────────────────────────┼─────────────────┤\n",
              "│ dense_2 (\u001b[38;5;33mDense\u001b[0m)                      │ ?                           │     \u001b[38;5;34m0\u001b[0m (unbuilt) │\n",
              "├──────────────────────────────────────┼─────────────────────────────┼─────────────────┤\n",
              "│ dense_3 (\u001b[38;5;33mDense\u001b[0m)                      │ ?                           │     \u001b[38;5;34m0\u001b[0m (unbuilt) │\n",
              "└──────────────────────────────────────┴─────────────────────────────┴─────────────────┘\n"
            ],
            "text/html": [
              "<pre style=\"white-space:pre;overflow-x:auto;line-height:normal;font-family:Menlo,'DejaVu Sans Mono',consolas,'Courier New',monospace\">┏━━━━━━━━━━━━━━━━━━━━━━━━━━━━━━━━━━━━━━┳━━━━━━━━━━━━━━━━━━━━━━━━━━━━━┳━━━━━━━━━━━━━━━━━┓\n",
              "┃<span style=\"font-weight: bold\"> Layer (type)                         </span>┃<span style=\"font-weight: bold\"> Output Shape                </span>┃<span style=\"font-weight: bold\">         Param # </span>┃\n",
              "┡━━━━━━━━━━━━━━━━━━━━━━━━━━━━━━━━━━━━━━╇━━━━━━━━━━━━━━━━━━━━━━━━━━━━━╇━━━━━━━━━━━━━━━━━┩\n",
              "│ embedding_1 (<span style=\"color: #0087ff; text-decoration-color: #0087ff\">Embedding</span>)              │ ?                           │     <span style=\"color: #00af00; text-decoration-color: #00af00\">0</span> (unbuilt) │\n",
              "├──────────────────────────────────────┼─────────────────────────────┼─────────────────┤\n",
              "│ global_average_pooling1d_1           │ ?                           │     <span style=\"color: #00af00; text-decoration-color: #00af00\">0</span> (unbuilt) │\n",
              "│ (<span style=\"color: #0087ff; text-decoration-color: #0087ff\">GlobalAveragePooling1D</span>)             │                             │                 │\n",
              "├──────────────────────────────────────┼─────────────────────────────┼─────────────────┤\n",
              "│ dense_2 (<span style=\"color: #0087ff; text-decoration-color: #0087ff\">Dense</span>)                      │ ?                           │     <span style=\"color: #00af00; text-decoration-color: #00af00\">0</span> (unbuilt) │\n",
              "├──────────────────────────────────────┼─────────────────────────────┼─────────────────┤\n",
              "│ dense_3 (<span style=\"color: #0087ff; text-decoration-color: #0087ff\">Dense</span>)                      │ ?                           │     <span style=\"color: #00af00; text-decoration-color: #00af00\">0</span> (unbuilt) │\n",
              "└──────────────────────────────────────┴─────────────────────────────┴─────────────────┘\n",
              "</pre>\n"
            ]
          },
          "metadata": {}
        },
        {
          "output_type": "display_data",
          "data": {
            "text/plain": [
              "\u001b[1m Total params: \u001b[0m\u001b[38;5;34m0\u001b[0m (0.00 B)\n"
            ],
            "text/html": [
              "<pre style=\"white-space:pre;overflow-x:auto;line-height:normal;font-family:Menlo,'DejaVu Sans Mono',consolas,'Courier New',monospace\"><span style=\"font-weight: bold\"> Total params: </span><span style=\"color: #00af00; text-decoration-color: #00af00\">0</span> (0.00 B)\n",
              "</pre>\n"
            ]
          },
          "metadata": {}
        },
        {
          "output_type": "display_data",
          "data": {
            "text/plain": [
              "\u001b[1m Trainable params: \u001b[0m\u001b[38;5;34m0\u001b[0m (0.00 B)\n"
            ],
            "text/html": [
              "<pre style=\"white-space:pre;overflow-x:auto;line-height:normal;font-family:Menlo,'DejaVu Sans Mono',consolas,'Courier New',monospace\"><span style=\"font-weight: bold\"> Trainable params: </span><span style=\"color: #00af00; text-decoration-color: #00af00\">0</span> (0.00 B)\n",
              "</pre>\n"
            ]
          },
          "metadata": {}
        },
        {
          "output_type": "display_data",
          "data": {
            "text/plain": [
              "\u001b[1m Non-trainable params: \u001b[0m\u001b[38;5;34m0\u001b[0m (0.00 B)\n"
            ],
            "text/html": [
              "<pre style=\"white-space:pre;overflow-x:auto;line-height:normal;font-family:Menlo,'DejaVu Sans Mono',consolas,'Courier New',monospace\"><span style=\"font-weight: bold\"> Non-trainable params: </span><span style=\"color: #00af00; text-decoration-color: #00af00\">0</span> (0.00 B)\n",
              "</pre>\n"
            ]
          },
          "metadata": {}
        }
      ]
    },
    {
      "cell_type": "code",
      "source": [
        "num_epochs = 30\n",
        "history = model.fit(training_padded, training_labels, epochs=num_epochs, validation_data=(testing_padded, testing_labels), verbose=2)"
      ],
      "metadata": {
        "colab": {
          "base_uri": "https://localhost:8080/"
        },
        "id": "ohHlvfITJZfR",
        "outputId": "45307f3c-07ec-4849-d3b5-0d79136b44f7"
      },
      "execution_count": 47,
      "outputs": [
        {
          "output_type": "stream",
          "name": "stdout",
          "text": [
            "Epoch 1/30\n",
            "625/625 - 4s - 6ms/step - accuracy: 0.5795 - loss: 0.6726 - val_accuracy: 0.6758 - val_loss: 0.6195\n",
            "Epoch 2/30\n",
            "625/625 - 2s - 4ms/step - accuracy: 0.7413 - loss: 0.5266 - val_accuracy: 0.7617 - val_loss: 0.4790\n",
            "Epoch 3/30\n",
            "625/625 - 3s - 4ms/step - accuracy: 0.8285 - loss: 0.3985 - val_accuracy: 0.8123 - val_loss: 0.4077\n",
            "Epoch 4/30\n",
            "625/625 - 4s - 6ms/step - accuracy: 0.8533 - loss: 0.3452 - val_accuracy: 0.8472 - val_loss: 0.3677\n",
            "Epoch 5/30\n",
            "625/625 - 2s - 4ms/step - accuracy: 0.8638 - loss: 0.3186 - val_accuracy: 0.8454 - val_loss: 0.3589\n",
            "Epoch 6/30\n",
            "625/625 - 3s - 4ms/step - accuracy: 0.8828 - loss: 0.2880 - val_accuracy: 0.8343 - val_loss: 0.3714\n",
            "Epoch 7/30\n",
            "625/625 - 2s - 4ms/step - accuracy: 0.9011 - loss: 0.2511 - val_accuracy: 0.8481 - val_loss: 0.3558\n",
            "Epoch 8/30\n",
            "625/625 - 3s - 5ms/step - accuracy: 0.9017 - loss: 0.2407 - val_accuracy: 0.8083 - val_loss: 0.4421\n",
            "Epoch 9/30\n",
            "625/625 - 3s - 5ms/step - accuracy: 0.9057 - loss: 0.2300 - val_accuracy: 0.8243 - val_loss: 0.4048\n",
            "Epoch 10/30\n",
            "625/625 - 4s - 7ms/step - accuracy: 0.9151 - loss: 0.2108 - val_accuracy: 0.8527 - val_loss: 0.3555\n",
            "Epoch 11/30\n",
            "625/625 - 2s - 4ms/step - accuracy: 0.9211 - loss: 0.1963 - val_accuracy: 0.8550 - val_loss: 0.3604\n",
            "Epoch 12/30\n",
            "625/625 - 4s - 6ms/step - accuracy: 0.9247 - loss: 0.1864 - val_accuracy: 0.8316 - val_loss: 0.4132\n",
            "Epoch 13/30\n",
            "625/625 - 4s - 6ms/step - accuracy: 0.9281 - loss: 0.1831 - val_accuracy: 0.8553 - val_loss: 0.3673\n",
            "Epoch 14/30\n",
            "625/625 - 2s - 4ms/step - accuracy: 0.9360 - loss: 0.1662 - val_accuracy: 0.8451 - val_loss: 0.3985\n",
            "Epoch 15/30\n",
            "625/625 - 3s - 4ms/step - accuracy: 0.9372 - loss: 0.1624 - val_accuracy: 0.8539 - val_loss: 0.3863\n",
            "Epoch 16/30\n",
            "625/625 - 3s - 4ms/step - accuracy: 0.9409 - loss: 0.1534 - val_accuracy: 0.8459 - val_loss: 0.4078\n",
            "Epoch 17/30\n",
            "625/625 - 4s - 6ms/step - accuracy: 0.9492 - loss: 0.1357 - val_accuracy: 0.8478 - val_loss: 0.4189\n",
            "Epoch 18/30\n",
            "625/625 - 4s - 6ms/step - accuracy: 0.9448 - loss: 0.1432 - val_accuracy: 0.8483 - val_loss: 0.4239\n",
            "Epoch 19/30\n",
            "625/625 - 3s - 4ms/step - accuracy: 0.9477 - loss: 0.1393 - val_accuracy: 0.8489 - val_loss: 0.4264\n",
            "Epoch 20/30\n",
            "625/625 - 2s - 4ms/step - accuracy: 0.9406 - loss: 0.1468 - val_accuracy: 0.8468 - val_loss: 0.4398\n",
            "Epoch 21/30\n",
            "625/625 - 4s - 6ms/step - accuracy: 0.9517 - loss: 0.1268 - val_accuracy: 0.8417 - val_loss: 0.4603\n",
            "Epoch 22/30\n",
            "625/625 - 2s - 4ms/step - accuracy: 0.9510 - loss: 0.1261 - val_accuracy: 0.8267 - val_loss: 0.5050\n",
            "Epoch 23/30\n",
            "625/625 - 2s - 4ms/step - accuracy: 0.9529 - loss: 0.1206 - val_accuracy: 0.8383 - val_loss: 0.4839\n",
            "Epoch 24/30\n",
            "625/625 - 2s - 4ms/step - accuracy: 0.9582 - loss: 0.1115 - val_accuracy: 0.8401 - val_loss: 0.4852\n",
            "Epoch 25/30\n",
            "625/625 - 2s - 4ms/step - accuracy: 0.9572 - loss: 0.1115 - val_accuracy: 0.8195 - val_loss: 0.5530\n",
            "Epoch 26/30\n",
            "625/625 - 3s - 5ms/step - accuracy: 0.9561 - loss: 0.1129 - val_accuracy: 0.8356 - val_loss: 0.5199\n",
            "Epoch 27/30\n",
            "625/625 - 4s - 7ms/step - accuracy: 0.9619 - loss: 0.1036 - val_accuracy: 0.8450 - val_loss: 0.5091\n",
            "Epoch 28/30\n",
            "625/625 - 2s - 4ms/step - accuracy: 0.9624 - loss: 0.0992 - val_accuracy: 0.8317 - val_loss: 0.5590\n",
            "Epoch 29/30\n",
            "625/625 - 2s - 4ms/step - accuracy: 0.9634 - loss: 0.0932 - val_accuracy: 0.8317 - val_loss: 0.5583\n",
            "Epoch 30/30\n",
            "625/625 - 3s - 5ms/step - accuracy: 0.9613 - loss: 0.0997 - val_accuracy: 0.8392 - val_loss: 0.5513\n"
          ]
        }
      ]
    },
    {
      "cell_type": "code",
      "source": [
        "# É um dicionário reverso que converte os tokens de volta as palavras.\n",
        "reverse_word_index = dict([(value, key) for (key, value) in word_index.items()])\n",
        "\n",
        "def decode_sentence(text):\n",
        "    return ' '.join([reverse_word_index.get(i, '?') for i in text]) # Se o token não estiver no reverse_word_index, ele retorna '?'\n",
        "\n",
        "print(decode_sentence(training_padded[0]))\n",
        "print(training_sentences[2])\n",
        "print(labels[2])"
      ],
      "metadata": {
        "colab": {
          "base_uri": "https://localhost:8080/"
        },
        "id": "rtefZ5cPJ3_x",
        "outputId": "26622ad9-f7bb-41a2-be79-2de5cf31d855"
      },
      "execution_count": 48,
      "outputs": [
        {
          "output_type": "stream",
          "name": "stdout",
          "text": [
            "former <OOV> store clerk sues over secret 'black <OOV> for minority shoppers ? ? ? ? ? ? ? ? ? ? ? ? ? ? ? ? ? ? ? ? ? ? ? ? ? ? ? ? ? ? ? ? ? ? ? ? ? ? ? ? ? ? ? ? ? ? ? ? ? ? ? ? ? ? ? ? ? ? ? ? ? ? ? ? ? ? ? ? ? ? ? ? ? ? ? ? ? ? ? ? ? ? ? ? ? ? ? ?\n",
            "mom starting to fear son's web series closest thing she will have to grandchild\n",
            "1\n"
          ]
        }
      ]
    },
    {
      "cell_type": "code",
      "source": [
        "e = model.layers[0]\n",
        "weights = e.get_weights()[0]\n",
        "print(weights.shape) # shape: (vocab_size, embedding_dim)\n"
      ],
      "metadata": {
        "colab": {
          "base_uri": "https://localhost:8080/"
        },
        "id": "TRDJAotYJ7x1",
        "outputId": "b6bfaef6-d2c6-4df9-c677-b535101a7733"
      },
      "execution_count": 49,
      "outputs": [
        {
          "output_type": "stream",
          "name": "stdout",
          "text": [
            "(10000, 16)\n"
          ]
        }
      ]
    },
    {
      "cell_type": "code",
      "source": [
        "import io\n",
        "\n",
        "out_v = io.open('vecs.tsv', 'w', encoding='utf-8') # Este arquivo será usado para armazenar os vetores de embeddings. Cada linha representará um vetor associado a uma palavra.\n",
        "out_m = io.open('meta.tsv', 'w', encoding='utf-8') # Este arquivo armazenará as palavras correspondentes a cada vetor de embedding. Cada linha conterá uma palavra.\n",
        "for word_num in range(1, vocab_size): # O loop itera sobre os índices do vocabulário.\n",
        "  word = reverse_word_index[word_num] # Em 'word', para cada número de palavra (word_num), ele busca a palavra correspondente no reverse_word_index.\n",
        "  embeddings = weights[word_num]\n",
        "  out_m.write(word + \"\\n\") # Adiciona a palavra no arquivo meta.tsv, uma por linha.\n",
        "  out_v.write('\\t'.join([str(x) for x in embeddings]) + \"\\n\") # Converte cada valor do vetor de embeddings em uma string e os junta com tabulações (\\t). Essa linha é então escrita no arquivo vecs.tsv.\n",
        "out_v.close() # Arquivos são fechado para garantir que todas as operações sejam garantidas.\n",
        "out_m.close() # Arquivos são fechado para garantir que todas as operações sejam garantidas."
      ],
      "metadata": {
        "id": "BxTXBZ5dJ_Cr"
      },
      "execution_count": 50,
      "outputs": []
    },
    {
      "cell_type": "code",
      "source": [
        "try:\n",
        "  from google.colab import files\n",
        "except ImportError:\n",
        "  pass\n",
        "else:\n",
        "  files.download('vecs.tsv')\n",
        "  files.download('meta.tsv')"
      ],
      "metadata": {
        "colab": {
          "base_uri": "https://localhost:8080/",
          "height": 17
        },
        "id": "c5YCsmWZKBVD",
        "outputId": "777fcfdc-6a0f-4bd7-ea72-01f844df048d"
      },
      "execution_count": 51,
      "outputs": [
        {
          "output_type": "display_data",
          "data": {
            "text/plain": [
              "<IPython.core.display.Javascript object>"
            ],
            "application/javascript": [
              "\n",
              "    async function download(id, filename, size) {\n",
              "      if (!google.colab.kernel.accessAllowed) {\n",
              "        return;\n",
              "      }\n",
              "      const div = document.createElement('div');\n",
              "      const label = document.createElement('label');\n",
              "      label.textContent = `Downloading \"${filename}\": `;\n",
              "      div.appendChild(label);\n",
              "      const progress = document.createElement('progress');\n",
              "      progress.max = size;\n",
              "      div.appendChild(progress);\n",
              "      document.body.appendChild(div);\n",
              "\n",
              "      const buffers = [];\n",
              "      let downloaded = 0;\n",
              "\n",
              "      const channel = await google.colab.kernel.comms.open(id);\n",
              "      // Send a message to notify the kernel that we're ready.\n",
              "      channel.send({})\n",
              "\n",
              "      for await (const message of channel.messages) {\n",
              "        // Send a message to notify the kernel that we're ready.\n",
              "        channel.send({})\n",
              "        if (message.buffers) {\n",
              "          for (const buffer of message.buffers) {\n",
              "            buffers.push(buffer);\n",
              "            downloaded += buffer.byteLength;\n",
              "            progress.value = downloaded;\n",
              "          }\n",
              "        }\n",
              "      }\n",
              "      const blob = new Blob(buffers, {type: 'application/binary'});\n",
              "      const a = document.createElement('a');\n",
              "      a.href = window.URL.createObjectURL(blob);\n",
              "      a.download = filename;\n",
              "      div.appendChild(a);\n",
              "      a.click();\n",
              "      div.remove();\n",
              "    }\n",
              "  "
            ]
          },
          "metadata": {}
        },
        {
          "output_type": "display_data",
          "data": {
            "text/plain": [
              "<IPython.core.display.Javascript object>"
            ],
            "application/javascript": [
              "download(\"download_b3ddbded-bccd-4594-9efc-ad1f2d7b9589\", \"vecs.tsv\", 1790491)"
            ]
          },
          "metadata": {}
        },
        {
          "output_type": "display_data",
          "data": {
            "text/plain": [
              "<IPython.core.display.Javascript object>"
            ],
            "application/javascript": [
              "\n",
              "    async function download(id, filename, size) {\n",
              "      if (!google.colab.kernel.accessAllowed) {\n",
              "        return;\n",
              "      }\n",
              "      const div = document.createElement('div');\n",
              "      const label = document.createElement('label');\n",
              "      label.textContent = `Downloading \"${filename}\": `;\n",
              "      div.appendChild(label);\n",
              "      const progress = document.createElement('progress');\n",
              "      progress.max = size;\n",
              "      div.appendChild(progress);\n",
              "      document.body.appendChild(div);\n",
              "\n",
              "      const buffers = [];\n",
              "      let downloaded = 0;\n",
              "\n",
              "      const channel = await google.colab.kernel.comms.open(id);\n",
              "      // Send a message to notify the kernel that we're ready.\n",
              "      channel.send({})\n",
              "\n",
              "      for await (const message of channel.messages) {\n",
              "        // Send a message to notify the kernel that we're ready.\n",
              "        channel.send({})\n",
              "        if (message.buffers) {\n",
              "          for (const buffer of message.buffers) {\n",
              "            buffers.push(buffer);\n",
              "            downloaded += buffer.byteLength;\n",
              "            progress.value = downloaded;\n",
              "          }\n",
              "        }\n",
              "      }\n",
              "      const blob = new Blob(buffers, {type: 'application/binary'});\n",
              "      const a = document.createElement('a');\n",
              "      a.href = window.URL.createObjectURL(blob);\n",
              "      a.download = filename;\n",
              "      div.appendChild(a);\n",
              "      a.click();\n",
              "      div.remove();\n",
              "    }\n",
              "  "
            ]
          },
          "metadata": {}
        },
        {
          "output_type": "display_data",
          "data": {
            "text/plain": [
              "<IPython.core.display.Javascript object>"
            ],
            "application/javascript": [
              "download(\"download_19331ef2-d9de-4b49-9bd4-fa3523ef02c2\", \"meta.tsv\", 75974)"
            ]
          },
          "metadata": {}
        }
      ]
    },
    {
      "cell_type": "code",
      "source": [
        "sentence = [\"Oh great, another thrilling episode of waiting for my laundry to dry\", \"I clapped because it’s finished, not because I like it\", \"Oh, wonderful! Another Monday. Just what I needed to start my week!\"]\n",
        "sequences = tokenizer.texts_to_sequences(sentence)\n",
        "padded = pad_sequences(sequences, maxlen=max_length, padding=padding_type, truncating=trunc_type)\n",
        "print(model.predict(padded))"
      ],
      "metadata": {
        "colab": {
          "base_uri": "https://localhost:8080/"
        },
        "id": "yn8CjRj0KGSm",
        "outputId": "b629029c-d3cc-4862-8640-bca42c63a021"
      },
      "execution_count": 62,
      "outputs": [
        {
          "output_type": "stream",
          "name": "stdout",
          "text": [
            "\u001b[1m1/1\u001b[0m \u001b[32m━━━━━━━━━━━━━━━━━━━━\u001b[0m\u001b[37m\u001b[0m \u001b[1m0s\u001b[0m 23ms/step\n",
            "[[0.99706715]\n",
            " [0.223831  ]\n",
            " [0.08308772]]\n"
          ]
        }
      ]
    }
  ]
}